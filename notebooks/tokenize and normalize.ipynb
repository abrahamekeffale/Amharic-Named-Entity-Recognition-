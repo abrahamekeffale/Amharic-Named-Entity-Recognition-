{
 "cells": [
  {
   "cell_type": "code",
   "execution_count": 12,
   "metadata": {},
   "outputs": [],
   "source": [
    "import pandas as pd\n",
    "import re\n",
    "import nltk\n",
    "from nltk.tokenize import word_tokenize"
   ]
  },
  {
   "cell_type": "code",
   "execution_count": 2,
   "metadata": {},
   "outputs": [
    {
     "name": "stderr",
     "output_type": "stream",
     "text": [
      "[nltk_data] Downloading package punkt to\n",
      "[nltk_data]     C:\\Users\\HP\\AppData\\Roaming\\nltk_data...\n",
      "[nltk_data]   Package punkt is already up-to-date!\n"
     ]
    },
    {
     "data": {
      "text/plain": [
       "True"
      ]
     },
     "execution_count": 2,
     "metadata": {},
     "output_type": "execute_result"
    }
   ],
   "source": [
    "# Ensure you have NLTK data files downloaded (for tokenization)\n",
    "nltk.download('punkt')"
   ]
  },
  {
   "cell_type": "code",
   "execution_count": 8,
   "metadata": {},
   "outputs": [
    {
     "name": "stdout",
     "output_type": "stream",
     "text": [
      "     sender                                            message  \\\n",
      "0  MerttEka  📣 🔠🔠🔠🔠🔠🔠🔠🔠🔠🔠\\n\\n📎 ይሄንን👉 t.me/MerttEka 👈 ተጭነው  ...   \n",
      "1  MerttEka  📣 MiNI HUMIDIFIER\\n\\n✔️ የቤት ውስጥ መዓዛ ማጨሻ\\n✔️ ቤት...   \n",
      "2  MerttEka  📣  🔠🔠🔠🔠🔠🔠🔠  Silicone Baking Mould\\n\\n✔️ 12 የኩኪ...   \n",
      "3  MerttEka                                                NaN   \n",
      "4  MerttEka                                                NaN   \n",
      "\n",
      "                   timestamp  \\\n",
      "0  2024-09-25 06:51:54+00:00   \n",
      "1  2024-09-25 06:51:27+00:00   \n",
      "2  2024-09-25 06:47:02+00:00   \n",
      "3  2024-09-25 06:47:02+00:00   \n",
      "4  2024-09-25 06:47:02+00:00   \n",
      "\n",
      "                                               media  \n",
      "0  MessageMediaDocument(nopremium=False, spoiler=...  \n",
      "1  MessageMediaPhoto(spoiler=False, photo=Photo(i...  \n",
      "2  MessageMediaPhoto(spoiler=False, photo=Photo(i...  \n",
      "3  MessageMediaPhoto(spoiler=False, photo=Photo(i...  \n",
      "4  MessageMediaPhoto(spoiler=False, photo=Photo(i...  \n"
     ]
    }
   ],
   "source": [
    "\n",
    "# Read the CSV file\n",
    "df = pd.read_csv(r\"C:\\Users\\HP\\week 5\\Amharic-Named-Entity-Recognition-\\data\\scraped_data.csv\")\n",
    "\n",
    "# Print the first few rows of the dataframe\n",
    "print(df.head())\n"
   ]
  },
  {
   "cell_type": "code",
   "execution_count": 19,
   "metadata": {},
   "outputs": [],
   "source": [
    "# Function to tokenize text\n",
    "def tokenize_text(text):\n",
    "    return word_tokenize(text)"
   ]
  },
  {
   "cell_type": "code",
   "execution_count": 20,
   "metadata": {},
   "outputs": [],
   "source": [
    "# Function to normalize text\n",
    "def normalize_text(text):\n",
    "    # Check if the input is a string\n",
    "    if isinstance(text, str):\n",
    "        # Lowercase the text\n",
    "        text = text.lower()\n",
    "        # Remove special characters and digits, keeping only Amharic characters\n",
    "        text = re.sub(r'[^አ-ፈ\\s]', '', text)  # Only keep Amharic characters\n",
    "        return text\n",
    "    else:\n",
    "        # If the input is not a string, return an empty string\n",
    "        return ''\n",
    "\n",
    "# Apply normalization and tokenization\n",
    "df['message'] = df['message'].fillna('').astype(str)  # Ensure all messages are strings\n",
    "df['normalized_message'] = df['message'].apply(normalize_text)\n",
    "\n",
    "# Tokenization (for demonstration, using basic whitespace tokenization)\n",
    "def tokenize_text(text):\n",
    "    return text.split()\n",
    "\n",
    "df['tokenized_message'] = df['normalized_message'].apply(tokenize_text)\n"
   ]
  },
  {
   "cell_type": "code",
   "execution_count": 21,
   "metadata": {},
   "outputs": [],
   "source": [
    "# Separate metadata from content\n",
    "metadata = df[['sender', 'timestamp']]\n",
    "content = df[['tokenized_message']]"
   ]
  },
  {
   "cell_type": "code",
   "execution_count": 22,
   "metadata": {},
   "outputs": [],
   "source": [
    "# Store the preprocessed data\n",
    "preprocessed_data = pd.concat([metadata, content], axis=1)\n"
   ]
  },
  {
   "cell_type": "code",
   "execution_count": 23,
   "metadata": {},
   "outputs": [],
   "source": [
    "# Save the preprocessed data to a new CSV file\n",
    "preprocessed_data.to_csv('preprocessed_data.csv', index=False)\n"
   ]
  },
  {
   "cell_type": "code",
   "execution_count": 24,
   "metadata": {},
   "outputs": [
    {
     "name": "stdout",
     "output_type": "stream",
     "text": [
      "Preprocessing completed. The preprocessed data is saved as 'preprocessed_data.csv'.\n"
     ]
    }
   ],
   "source": [
    "print(\"Preprocessing completed. The preprocessed data is saved as 'preprocessed_data.csv'.\")"
   ]
  }
 ],
 "metadata": {
  "kernelspec": {
   "display_name": ".myenv",
   "language": "python",
   "name": "python3"
  },
  "language_info": {
   "codemirror_mode": {
    "name": "ipython",
    "version": 3
   },
   "file_extension": ".py",
   "mimetype": "text/x-python",
   "name": "python",
   "nbconvert_exporter": "python",
   "pygments_lexer": "ipython3",
   "version": "3.12.3"
  }
 },
 "nbformat": 4,
 "nbformat_minor": 2
}
