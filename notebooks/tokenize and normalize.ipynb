{
 "cells": [
  {
   "cell_type": "code",
   "execution_count": 12,
   "metadata": {},
   "outputs": [],
   "source": [
    "import pandas as pd\n",
    "import re\n",
    "import nltk\n",
    "from nltk.tokenize import word_tokenize\n",
    "import torch\n",
    "from transformers import XLMRobertaTokenizer, XLMRobertaModel"
   ]
  },
  {
   "cell_type": "code",
   "execution_count": 2,
   "metadata": {},
   "outputs": [
    {
     "name": "stderr",
     "output_type": "stream",
     "text": [
      "[nltk_data] Downloading package punkt to\n",
      "[nltk_data]     C:\\Users\\HP\\AppData\\Roaming\\nltk_data...\n",
      "[nltk_data]   Package punkt is already up-to-date!\n"
     ]
    },
    {
     "data": {
      "text/plain": [
       "True"
      ]
     },
     "execution_count": 2,
     "metadata": {},
     "output_type": "execute_result"
    }
   ],
   "source": [
    "# Ensure you have NLTK data files downloaded (for tokenization)\n",
    "nltk.download('punkt')"
   ]
  },
  {
   "cell_type": "code",
   "execution_count": 8,
   "metadata": {},
   "outputs": [
    {
     "name": "stdout",
     "output_type": "stream",
     "text": [
      "     sender                                            message  \\\n",
      "0  MerttEka  📣 🔠🔠🔠🔠🔠🔠🔠🔠🔠🔠\\n\\n📎 ይሄንን👉 t.me/MerttEka 👈 ተጭነው  ...   \n",
      "1  MerttEka  📣 MiNI HUMIDIFIER\\n\\n✔️ የቤት ውስጥ መዓዛ ማጨሻ\\n✔️ ቤት...   \n",
      "2  MerttEka  📣  🔠🔠🔠🔠🔠🔠🔠  Silicone Baking Mould\\n\\n✔️ 12 የኩኪ...   \n",
      "3  MerttEka                                                NaN   \n",
      "4  MerttEka                                                NaN   \n",
      "\n",
      "                   timestamp  \\\n",
      "0  2024-09-25 06:51:54+00:00   \n",
      "1  2024-09-25 06:51:27+00:00   \n",
      "2  2024-09-25 06:47:02+00:00   \n",
      "3  2024-09-25 06:47:02+00:00   \n",
      "4  2024-09-25 06:47:02+00:00   \n",
      "\n",
      "                                               media  \n",
      "0  MessageMediaDocument(nopremium=False, spoiler=...  \n",
      "1  MessageMediaPhoto(spoiler=False, photo=Photo(i...  \n",
      "2  MessageMediaPhoto(spoiler=False, photo=Photo(i...  \n",
      "3  MessageMediaPhoto(spoiler=False, photo=Photo(i...  \n",
      "4  MessageMediaPhoto(spoiler=False, photo=Photo(i...  \n"
     ]
    }
   ],
   "source": [
    "\n",
    "# Read the CSV file\n",
    "df = pd.read_csv(r\"C:\\Users\\HP\\week 5\\Amharic-Named-Entity-Recognition-\\data\\scraped_data.csv\")\n",
    "\n",
    "# Print the first few rows of the dataframe\n",
    "print(df.head())\n"
   ]
  },
  {
   "cell_type": "code",
   "execution_count": 27,
   "metadata": {},
   "outputs": [
    {
     "name": "stderr",
     "output_type": "stream",
     "text": [
      "c:\\Users\\HP\\week 5\\Amharic-Named-Entity-Recognition-\\.myenv\\Lib\\site-packages\\tqdm\\auto.py:21: TqdmWarning: IProgress not found. Please update jupyter and ipywidgets. See https://ipywidgets.readthedocs.io/en/stable/user_install.html\n",
      "  from .autonotebook import tqdm as notebook_tqdm\n",
      "c:\\Users\\HP\\week 5\\Amharic-Named-Entity-Recognition-\\.myenv\\Lib\\site-packages\\huggingface_hub\\file_download.py:147: UserWarning: `huggingface_hub` cache-system uses symlinks by default to efficiently store duplicated files but your machine does not support them in C:\\Users\\HP\\.cache\\huggingface\\hub\\models--xlm-roberta-base. Caching files will still work but in a degraded version that might require more space on your disk. This warning can be disabled by setting the `HF_HUB_DISABLE_SYMLINKS_WARNING` environment variable. For more details, see https://huggingface.co/docs/huggingface_hub/how-to-cache#limitations.\n",
      "To support symlinks on Windows, you either need to activate Developer Mode or to run Python as an administrator. In order to activate developer mode, see this article: https://docs.microsoft.com/en-us/windows/apps/get-started/enable-your-device-for-development\n",
      "  warnings.warn(message)\n",
      "c:\\Users\\HP\\week 5\\Amharic-Named-Entity-Recognition-\\.myenv\\Lib\\site-packages\\transformers\\tokenization_utils_base.py:1617: FutureWarning: `clean_up_tokenization_spaces` was not set. It will be set to `True` by default. This behavior will be deprecated in transformers v4.45, and will be then set to `False` by default. For more details check this issue: https://github.com/huggingface/transformers/issues/31884\n",
      "  warnings.warn(\n"
     ]
    }
   ],
   "source": [
    "# Load the XLM-RoBERTa tokenizer and model\n",
    "tokenizer = XLMRobertaTokenizer.from_pretrained('xlm-roberta-base')\n",
    "model = XLMRobertaModel.from_pretrained('xlm-roberta-base')\n",
    "\n",
    "device = torch.device(\"cuda\" if torch.cuda.is_available() else \"cpu\")\n",
    "model = model.to(device)\n",
    "\n",
    "# Tokenization using XLM-RoBERTa\n",
    "def tokenize_and_embed(text):\n",
    "    if isinstance(text, str):\n",
    "        # Tokenize the text\n",
    "        inputs = tokenizer(text, return_tensors=\"pt\", padding=True, truncation=True)\n",
    "        input_ids = inputs['input_ids'].to(device)\n",
    "        \n",
    "        # Generate embeddings using the model\n",
    "        with torch.no_grad():\n",
    "            outputs = model(input_ids)\n",
    "        \n",
    "        # The model returns multiple values, where 'last_hidden_state' contains the embeddings\n",
    "        embeddings = outputs.last_hidden_state\n",
    "        \n",
    "        # Convert the embeddings to a NumPy array if you need\n",
    "        embeddings_np = embeddings.cpu().numpy()\n",
    "        return embeddings_np\n",
    "    else:\n",
    "        return None\n",
    "\n",
    "# Apply tokenization and embedding generation to the dataframe\n",
    "df['embeddings'] = df['message'].apply(tokenize_and_embed)\n",
    "\n",
    "# The 'embeddings' column now contains the XLM-RoBERTa embeddings for each message\n"
   ]
  },
  {
   "cell_type": "code",
   "execution_count": 21,
   "metadata": {},
   "outputs": [],
   "source": [
    "# Separate metadata from content\n",
    "metadata = df[['sender', 'timestamp']]\n",
    "content = df[['tokenized_message']]"
   ]
  },
  {
   "cell_type": "code",
   "execution_count": 22,
   "metadata": {},
   "outputs": [],
   "source": [
    "# Store the preprocessed data\n",
    "preprocessed_data = pd.concat([metadata, content], axis=1)"
   ]
  },
  {
   "cell_type": "code",
   "execution_count": 23,
   "metadata": {},
   "outputs": [],
   "source": [
    "# Save the preprocessed data to a new CSV file\n",
    "preprocessed_data.to_csv('preprocessed_data.csv', index=False)"
   ]
  },
  {
   "cell_type": "code",
   "execution_count": null,
   "metadata": {},
   "outputs": [],
   "source": [
    "print(preprocessed_data.csv.head())"
   ]
  },
  {
   "cell_type": "code",
   "execution_count": 24,
   "metadata": {},
   "outputs": [
    {
     "name": "stdout",
     "output_type": "stream",
     "text": [
      "Preprocessing completed. The preprocessed data is saved as 'preprocessed_data.csv'.\n"
     ]
    }
   ],
   "source": [
    "print(\"Preprocessing completed. The preprocessed data is saved as 'preprocessed_data.csv'.\")"
   ]
  }
 ],
 "metadata": {
  "kernelspec": {
   "display_name": ".myenv",
   "language": "python",
   "name": "python3"
  },
  "language_info": {
   "codemirror_mode": {
    "name": "ipython",
    "version": 3
   },
   "file_extension": ".py",
   "mimetype": "text/x-python",
   "name": "python",
   "nbconvert_exporter": "python",
   "pygments_lexer": "ipython3",
   "version": "3.12.3"
  }
 },
 "nbformat": 4,
 "nbformat_minor": 2
}
