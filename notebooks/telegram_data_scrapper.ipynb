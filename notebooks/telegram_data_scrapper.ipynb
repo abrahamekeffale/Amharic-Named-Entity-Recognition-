{
 "cells": [
  {
   "cell_type": "code",
   "execution_count": null,
   "metadata": {},
   "outputs": [],
   "source": [
    "from telethon import TelegramClient\n",
    "import pandas as pd\n",
    "\n",
    "# Your API ID and hash\n",
    "api_id = 'YOUR_API_ID'\n",
    "api_hash = 'YOUR_API_HASH'\n",
    "phone_number = 'YOUR_PHONE_NUMBER'\n",
    "\n",
    "# Create a client\n",
    "client = TelegramClient('scraper', api_id, api_hash)\n",
    "\n",
    "async def scrape_channel(channel_username, limit=1000):\n",
    "    # Connect to the Telegram API\n",
    "    await client.start(phone_number)\n",
    "    \n",
    "    # Fetch messages from the channel\n",
    "    messages = await client.get_messages(channel_username, limit=limit)\n",
    "    \n",
    "    # Store extracted data\n",
    "    data = []\n",
    "\n",
    "    for msg in messages:\n",
    "        content = msg.message\n",
    "        sender = await msg.get_sender()\n",
    "        sender_name = sender.username if sender else 'Unknown'\n",
    "        timestamp = msg.date\n",
    "        media = msg.media if msg.media else None\n",
    "\n",
    "        # Save text, sender, timestamp, media details\n",
    "        data.append({\n",
    "            'sender': sender_name,\n",
    "            'message': content,\n",
    "            'timestamp': timestamp,\n",
    "            'media': media\n",
    "        })\n",
    "\n",
    "    # Create DataFrame to store the scraped messages\n",
    "    df = pd.DataFrame(data)\n",
    "    return df\n",
    "\n",
    "with client:\n",
    "    df = client.loop.run_until_complete(scrape_channel('example_channel'))\n",
    "    print(df)\n"
   ]
  }
 ],
 "metadata": {
  "language_info": {
   "name": "python"
  }
 },
 "nbformat": 4,
 "nbformat_minor": 2
}
