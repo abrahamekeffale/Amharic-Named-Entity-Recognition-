{
 "cells": [
  {
   "cell_type": "code",
   "execution_count": null,
   "metadata": {},
   "outputs": [],
   "source": [
    "import nest_asyncio\n",
    "import asyncio\n",
    "from telethon import TelegramClient\n",
    "import pandas as pd\n",
    "\n",
    "# Allow nested async calls\n",
    "nest_asyncio.apply()\n",
    "\n",
    "# Your API ID and hash\n",
    "api_id = '24556085'\n",
    "api_hash = 'e9d6e1688506f4b2d8ac19d1b3492c09'\n",
    "phone_number = '+251968861733'\n",
    "\n",
    "# Create a client\n",
    "client = TelegramClient('scraping_data', api_id, api_hash)\n",
    "\n",
    "async def scrape_channel(channel_username, limit=5000):\n",
    "    await client.start(phone_number)\n",
    "    messages = await client.get_messages(channel_username, limit=limit)\n",
    "    \n",
    "    data = []\n",
    "    for msg in messages:\n",
    "        content = msg.message\n",
    "        sender = await msg.get_sender()\n",
    "        sender_name = sender.username if sender else 'Unknown'\n",
    "        timestamp = msg.date\n",
    "        media = msg.media if msg.media else None\n",
    "\n",
    "        data.append({\n",
    "            'sender': sender_name,\n",
    "            'message': content,\n",
    "            'timestamp': timestamp,\n",
    "            'media': media\n",
    "        })\n",
    "\n",
    "    df = pd.DataFrame(data)\n",
    "    return df\n",
    "\n",
    "async def main():\n",
    "    async with client:\n",
    "        df = await scrape_channel('MerttEka')  # Use the channel username directly\n",
    "        print(df)\n",
    "        \n",
    "        # Save the DataFrame to a CSV file\n",
    "        df.to_csv('scraped_data.csv', index=False, encoding='utf-8')\n",
    "\n",
    "# Run the main function without asyncio.run()\n",
    "if __name__ == \"__main__\":\n",
    "    client.loop.run_until_complete(main())\n"
   ]
  }
 ],
 "metadata": {
  "kernelspec": {
   "display_name": ".myenv",
   "language": "python",
   "name": "python3"
  },
  "language_info": {
   "codemirror_mode": {
    "name": "ipython",
    "version": 3
   },
   "file_extension": ".py",
   "mimetype": "text/x-python",
   "name": "python",
   "nbconvert_exporter": "python",
   "pygments_lexer": "ipython3",
   "version": "3.12.3"
  }
 },
 "nbformat": 4,
 "nbformat_minor": 2
}
