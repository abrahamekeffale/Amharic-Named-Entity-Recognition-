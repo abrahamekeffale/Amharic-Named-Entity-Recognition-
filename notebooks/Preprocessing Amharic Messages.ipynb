{
 "cells": [
  {
   "cell_type": "code",
   "execution_count": null,
   "metadata": {},
   "outputs": [],
   "source": [
    "from amharic_cleaner import AmharicCleaner\n",
    "\n",
    "def preprocess_text(message):\n",
    "    # Remove unwanted characters and normalize text\n",
    "    cleaner = AmharicCleaner()\n",
    "    message = cleaner.remove_punct(message)  # Removes punctuation\n",
    "    tokens = cleaner.tokenize(message)       # Tokenize into words\n",
    "    normalized_tokens = cleaner.normalize_tokens(tokens)  # Normalize tokens\n",
    "    return normalized_tokens\n",
    "\n",
    "# Apply the preprocessing to your data\n",
    "df['cleaned_message'] = df['message'].apply(preprocess_text)\n",
    "print(df[['message', 'cleaned_message']])\n"
   ]
  }
 ],
 "metadata": {
  "language_info": {
   "name": "python"
  }
 },
 "nbformat": 4,
 "nbformat_minor": 2
}
