{
 "cells": [
  {
   "cell_type": "code",
   "execution_count": 6,
   "metadata": {},
   "outputs": [],
   "source": [
    "import re\n",
    "import pandas as pd"
   ]
  },
  {
   "cell_type": "code",
   "execution_count": 7,
   "metadata": {},
   "outputs": [],
   "source": [
    "# Function to clean and tokenize Amharic text\n",
    "def preprocess_text(text):\n",
    "    if isinstance(text, str):  # Ensure that text is a string\n",
    "        # Remove non-Amharic characters and emojis\n",
    "        cleaned_text = re.sub(r'[^\\u1200-\\u137F ]+', '', text)  # Amharic Unicode range\n",
    "        # Tokenize the text by splitting based on spaces\n",
    "        tokens = cleaned_text.split()\n",
    "        return tokens\n",
    "    else:\n",
    "        return []  # Return an empty list if the message is not a string\n",
    "\n",
    "# Apply the preprocessing function\n",
    "df['tokens'] = df['message'].apply(preprocess_text)"
   ]
  },
  {
   "cell_type": "code",
   "execution_count": 11,
   "metadata": {},
   "outputs": [
    {
     "name": "stdout",
     "output_type": "stream",
     "text": [
      "     Token      Label\n",
      "0      የቤት          O\n",
      "1       እቃ  B-Product\n",
      "2       ዋጋ    B-PRICE\n",
      "3     1000    I-PRICE\n",
      "4       ብር    B-PRICE\n",
      "5       ቦሌ      B-LOC\n",
      "6                    \n",
      "7   አስተማማኝ          O\n",
      "8   እንቅስቃሴ          O\n",
      "9        በ          O\n",
      "10     500    I-PRICE\n",
      "11      ብር    B-PRICE\n",
      "12     ሰላም      B-LOC\n",
      "13    ማርካት          O\n",
      "14                   \n",
      "15      ጫማ  B-Product\n",
      "16      ዋጋ    B-PRICE\n",
      "17    2000    I-PRICE\n",
      "18      ብር    B-PRICE\n",
      "19     አዲስ      B-LOC\n",
      "20     አበባ      B-LOC\n",
      "21                   \n"
     ]
    }
   ],
   "source": [
    "import pandas as pd\n",
    "\n",
    "# Example messages from your dataset (to be replaced by actual data)\n",
    "data = {\n",
    "    'Message': [\n",
    "        'የቤት እቃ ዋጋ 1000 ብር ቦሌ',\n",
    "        'አስተማማኝ እንቅስቃሴ በ 500 ብር ሰላም ማርካት',\n",
    "        'ጫማ ዋጋ 2000 ብር አዲስ አበባ'\n",
    "    ]\n",
    "}\n",
    "df = pd.DataFrame(data)\n",
    "\n",
    "# Entity labeling rules (you should modify these based on your dataset and actual requirements)\n",
    "def label_token(token):\n",
    "    # Rules for Product entity (just an example, expand as needed)\n",
    "    product_keywords = ['ቤት', 'እቃ', 'ጫማ']  # Add more product-related keywords\n",
    "    price_keywords = ['ብር', 'ዋጋ']  # Add more price-related keywords\n",
    "    location_keywords = ['ቦሌ', 'አዲስ', 'አበባ', 'ሰላም']  # Add more location-related keywords\n",
    "\n",
    "    if token in product_keywords:\n",
    "        return 'B-Product'\n",
    "    elif token in price_keywords:\n",
    "        return 'B-PRICE'\n",
    "    elif any(char.isdigit() for char in token):  # Detect numbers in tokens (for prices)\n",
    "        return 'I-PRICE'\n",
    "    elif token in location_keywords:\n",
    "        return 'B-LOC'\n",
    "    else:\n",
    "        return 'O'\n",
    "\n",
    "# Function to convert dataset to CoNLL format\n",
    "def convert_to_conll_format(df):\n",
    "    conll_data = []\n",
    "\n",
    "    # Iterate through each message\n",
    "    for idx, row in df.iterrows():\n",
    "        message = row['Message']\n",
    "\n",
    "        # Ensure message is a string\n",
    "        if isinstance(message, str):\n",
    "            tokens = message.split()  # Tokenize the message by spaces\n",
    "            labels = [label_token(token) for token in tokens]  # Apply labeling logic\n",
    "\n",
    "            # Append tokens and labels to conll_data\n",
    "            for token, label in zip(tokens, labels):\n",
    "                conll_data.append([token, label])\n",
    "\n",
    "            # Append an empty row to signify the end of a message\n",
    "            conll_data.append([\"\", \"\"])  # Empty row between messages\n",
    "\n",
    "    return conll_data\n",
    "\n",
    "# Convert to CoNLL format\n",
    "conll_data = convert_to_conll_format(df)\n",
    "\n",
    "# Create a DataFrame from the CoNLL data\n",
    "conll_df = pd.DataFrame(conll_data, columns=['Token', 'Label'])\n",
    "\n",
    "# Save to CSV for easier manual management\n",
    "conll_df.to_csv('conll_formatted_data.csv', index=False)\n",
    "\n",
    "# Display the CoNLL-formatted data\n",
    "print(conll_df)\n"
   ]
  }
 ],
 "metadata": {
  "kernelspec": {
   "display_name": ".myenv",
   "language": "python",
   "name": "python3"
  },
  "language_info": {
   "codemirror_mode": {
    "name": "ipython",
    "version": 3
   },
   "file_extension": ".py",
   "mimetype": "text/x-python",
   "name": "python",
   "nbconvert_exporter": "python",
   "pygments_lexer": "ipython3",
   "version": "3.12.3"
  }
 },
 "nbformat": 4,
 "nbformat_minor": 2
}
